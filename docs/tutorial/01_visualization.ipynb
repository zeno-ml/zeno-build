{
 "cells": [
  {
   "cell_type": "markdown",
   "metadata": {},
   "source": [
    "# Zeno Build Tutorial 1: Visualizing Results\n",
    "\n",
    "In this first tutorial, we'll walk through how to use\n",
    "[Zeno Build](https://github.com/zeno-ml/zeno-build/) to visualize the\n",
    "results of your experiments. We'll use an extremely simple example where we already\n",
    "have the results and just want to visualize them.\n",
    "\n",
    "As a task, we'll use a tiny dataset of four questions for math question answering,\n",
    "and we'll have two systems: `math_dunce` and `math_genius`."
   ]
  },
  {
   "cell_type": "markdown",
   "metadata": {},
   "source": [
    "## Setup\n",
    "\n",
    "Make sure that Zeno Build is installed (`pip install zeno-build`) and that you do the necessary imports."
   ]
  },
  {
   "cell_type": "code",
   "execution_count": null,
   "metadata": {},
   "outputs": [],
   "source": [
    "import pandas as pd\n",
    "\n",
    "from zeno_build.evaluation.text_features.exact_match import avg_exact_match, exact_match\n",
    "from zeno_build.evaluation.text_features.length import input_length, output_length\n",
    "from zeno_build.experiments.experiment_run import ExperimentRun\n",
    "from zeno_build.reporting.visualize import visualize"
   ]
  },
  {
   "cell_type": "markdown",
   "metadata": {},
   "source": [
    "This example uses OpenAI, so also make sure that your OpenAI API key is set in the environment variable `OPENAI_API_KEY`. The best way to do this is to create a file called `.env` in the same directory as this notebook, and put the following line in it:\n",
    "\n",
    "```\n",
    "OPENAI_API_KEY=<your key here>\n",
    "```"
   ]
  },
  {
   "cell_type": "markdown",
   "metadata": {},
   "source": [
    "## Obtaining Data and Outputs\n",
    "\n",
    "Now let's set up our data. `data` is the inputs to the model, `labels` is the expected outputs.\n",
    "\n",
    "We can also add additional **meta-data** that we use for analyzing our results. In this case, we'll add an `operation_type` meta-data field that specifies the type of mathematical operation that is included.\n",
    "\n",
    "With all of this data, we create a Pandas dataframe to store it."
   ]
  },
  {
   "cell_type": "code",
   "execution_count": null,
   "metadata": {},
   "outputs": [],
   "source": [
    "data = [\"What is 5+5?\", \"What is 3+2?\", \"What is 6-5?\", \"What is 12-2?\"]\n",
    "labels = [\"10\", \"5\", \"1\", \"10\"]\n",
    "operation_type = [\"addition\", \"addition\", \"subtraction\", \"subtraction\"]\n",
    "df = pd.DataFrame({\"text\": data, \"label\": labels, \"operation_type\": operation_type})"
   ]
  },
  {
   "cell_type": "markdown",
   "metadata": {},
   "source": [
    "Now, let's specify some system outputs. These contain:\n",
    "* `name`: The name of the system\n",
    "* `parameters`: The parameters that specify the behavior of the system\n",
    "* `predictions`: The predictions of the system"
   ]
  },
  {
   "cell_type": "code",
   "execution_count": null,
   "metadata": {},
   "outputs": [],
   "source": [
    "result1 = ExperimentRun(\n",
    "    name=\"math_dunce\",\n",
    "    parameters={\"model\": \"math_dunce\", \"skill\": 3},\n",
    "    predictions=[\"5\", \"4\", \"1\", \"5\"],\n",
    ")\n",
    "result2 = ExperimentRun(\n",
    "    name=\"math_master\",\n",
    "    parameters={\"model\": \"math_master\", \"skill\": 9},\n",
    "    predictions=[\"10\", \"5\", \"1\", \"14\"],\n",
    ")"
   ]
  },
  {
   "cell_type": "markdown",
   "metadata": {},
   "source": [
    "## Running Evaluation/Visualization\n",
    "\n",
    "Finally, we specify some feature functions that we use in our analysis. These functions either calculate information about the underlying data or system outputs (such as `output_length` and `input_length`), or they calculate metrics that we use to evaluate the system (such as `exact_match`/`avg_exact_match`)."
   ]
  },
  {
   "cell_type": "code",
   "execution_count": null,
   "metadata": {},
   "outputs": [],
   "source": [
    "feature_functions = [\n",
    "    output_length,\n",
    "    input_length,\n",
    "    exact_match,\n",
    "    avg_exact_match,\n",
    "]"
   ]
  },
  {
   "cell_type": "markdown",
   "metadata": {},
   "source": [
    "Finally, we call the `visualize` function to perform evaluation, analysis, and bring up the visualization interface. Here we pass in:\n",
    "* *Dataframe:* The dataframe containing the data and system outputs, in this case `df`\n",
    "* *Labels:* The expected outputs, in this case `labels`\n",
    "* *System Outputs:* A list of all of the system outputs, in this case `[result1, result2]`\n",
    "* *View:* The view of the data that we want to use, in this case `\"text-classification\"` (which is suitable for text-input/text-output tasks). There are [a number of different views](https://github.com/zeno-ml/instance-views/), and we will cover more in a later tutorial.\n",
    "* *Input Column:* The name of the column that has the input data in the dataframe, in this case `\"text\"`\n",
    "* *Feature Functions:* The feature functions we just defined previously, `feature_functions`\n",
    "* *Additional Config:* We can set additional configuration options, such as setting the path for Zeno to a particular directory"
   ]
  },
  {
   "cell_type": "code",
   "execution_count": null,
   "metadata": {},
   "outputs": [],
   "source": [
    "visualize(\n",
    "    df,\n",
    "    labels,\n",
    "    [result1, result2],\n",
    "    \"text-classification\",\n",
    "    \"text\",\n",
    "    feature_functions,\n",
    "    zeno_config={\"cache_path\": \"zeno_cache\"},\n",
    ")"
   ]
  },
  {
   "cell_type": "markdown",
   "metadata": {},
   "source": [
    "If this has run successfully, you should now have a server running on [http://localhost:8000](http://localhost:8000) that has the browsing interface for your results. You can click through and [explore more](../exploring_results.md). Make sure to shut down your notebook (which shuts downt he server) when you're done!"
   ]
  },
  {
   "cell_type": "markdown",
   "metadata": {},
   "source": [
    "## Next Steps\n",
    "\n",
    "Next, you can visit:\n",
    "* [Tutorial 2 - Inference](02_inference.ipynb) to learn how to generate outputs with Zeno Build (which provides a convenient wrapper to many LLM libraries).\n",
    "* [Tutorial 3 - Text Generation](03_text_generation.ipynb) to learn how to evaluate text generation models.\n",
    "\n",
    "Or, you can visit the [Zeno Build Examples](../../examples/) to see more end-to-end examples of how to use Zeno Build to run experiments."
   ]
  }
 ],
 "metadata": {
  "kernelspec": {
   "display_name": "zeno-build",
   "language": "python",
   "name": "python3"
  },
  "language_info": {
   "codemirror_mode": {
    "name": "ipython",
    "version": 3
   },
   "file_extension": ".py",
   "mimetype": "text/x-python",
   "name": "python",
   "nbconvert_exporter": "python",
   "pygments_lexer": "ipython3",
   "version": "3.10.11"
  },
  "orig_nbformat": 4
 },
 "nbformat": 4,
 "nbformat_minor": 2
}
