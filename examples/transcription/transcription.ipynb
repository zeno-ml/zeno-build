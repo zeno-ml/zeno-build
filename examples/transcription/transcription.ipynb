{
 "cells": [
  {
   "cell_type": "code",
   "execution_count": null,
   "metadata": {},
   "outputs": [],
   "source": [
    "from jiwer import wer\n",
    "import os\n",
    "import pandas as pd\n",
    "import whisper\n",
    "import zeno_client\n",
    "import dotenv\n",
    "\n",
    "dotenv.load_dotenv(override=True)"
   ]
  },
  {
   "cell_type": "code",
   "execution_count": null,
   "metadata": {},
   "outputs": [],
   "source": [
    "df = pd.read_csv(\"speech_accent_archive.csv\")\n"
   ]
  },
  {
   "cell_type": "code",
   "execution_count": null,
   "metadata": {},
   "outputs": [],
   "source": [
    "df[\"data\"] = \"https://zenoml.s3.amazonaws.com/accents/\" + df[\"id\"]"
   ]
  },
  {
   "cell_type": "code",
   "execution_count": null,
   "metadata": {},
   "outputs": [],
   "source": [
    "client = zeno_client.ZenoClient(os.environ.get(\"ZENO_API_KEY\"))\n",
    "\n",
    "project = client.create_project(\n",
    "    name=\"Transcription Test\", \n",
    "    view=\"audio-transcription\",\n",
    "    description=\"Test of audio transcription\",\n",
    "    metrics=[\n",
    "        zeno_client.ZenoMetric(name=\"avg wer\", type=\"mean\", columns=[\"wer\"])\n",
    "    ]\n",
    ")\n",
    "\n",
    "project.upload_dataset(df, id_column=\"id\", data_column=\"data\", label_column=\"label\")"
   ]
  },
  {
   "cell_type": "code",
   "execution_count": null,
   "metadata": {},
   "outputs": [],
   "source": [
    "models = [\"tiny\", \"tiny.en\", \"base\", \"base.en\", \"large\"]"
   ]
  },
  {
   "cell_type": "code",
   "execution_count": null,
   "metadata": {},
   "outputs": [],
   "source": [
    "os.makedirs(\"cache\", exist_ok=True)\n",
    "\n",
    "for model in models:\n",
    "    try:\n",
    "        df_system = pd.read_parquet(f\"cache/{model}.parquet\")\n",
    "    except:\n",
    "        whisper_model = whisper.load_model(model)\n",
    "        df_system = df[[\"id\", \"data\", \"label\"]].copy()\n",
    "\n",
    "        df_system[\"output\"] = df_system[\"data\"].apply(lambda x: whisper_model.transcribe(x)[\"text\"])\n",
    "        df_system[\"wer\"] = df_system.apply(lambda x: wer(x[\"label\"], x[\"output\"]), axis=1)\n",
    "        df_system.to_parquet(f\"cache/{model}.parquet\", index=False)\n",
    "        \n",
    "    project.upload_system(df_system[[\"id\", \"output\", \"wer\"]], name=model, id_column=\"id\", output_column=\"output\")\n"
   ]
  },
  {
   "cell_type": "code",
   "execution_count": null,
   "metadata": {},
   "outputs": [],
   "source": []
  }
 ],
 "metadata": {
  "kernelspec": {
   "display_name": "compare",
   "language": "python",
   "name": "python3"
  },
  "language_info": {
   "codemirror_mode": {
    "name": "ipython",
    "version": 3
   },
   "file_extension": ".py",
   "mimetype": "text/x-python",
   "name": "python",
   "nbconvert_exporter": "python",
   "pygments_lexer": "ipython3",
   "version": "3.9.16"
  }
 },
 "nbformat": 4,
 "nbformat_minor": 2
}
